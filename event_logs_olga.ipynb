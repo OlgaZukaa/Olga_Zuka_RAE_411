{
  "nbformat": 4,
  "nbformat_minor": 0,
  "metadata": {
    "colab": {
      "name": "event logs olga.ipynb",
      "provenance": [],
      "authorship_tag": "ABX9TyNraJw5NXTU/RMVr+KDyYof",
      "include_colab_link": true
    },
    "kernelspec": {
      "name": "python3",
      "display_name": "Python 3"
    }
  },
  "cells": [
    {
      "cell_type": "markdown",
      "metadata": {
        "id": "view-in-github",
        "colab_type": "text"
      },
      "source": [
        "<a href=\"https://colab.research.google.com/github/OlgaZukaa/Olga_Zuka_RAE_411/blob/master/event_logs_olga.ipynb\" target=\"_parent\"><img src=\"https://colab.research.google.com/assets/colab-badge.svg\" alt=\"Open In Colab\"/></a>"
      ]
    },
    {
      "cell_type": "code",
      "metadata": {
        "id": "h9_diFA-Pkl9",
        "colab_type": "code",
        "colab": {
          "base_uri": "https://localhost:8080/",
          "height": 306
        },
        "outputId": "86d6f326-7d2c-4bca-90ed-abd293f592c3"
      },
      "source": [
        "import pandas as pd \n",
        "pd.set_option('display.max_rows', None)\n",
        "data = pd.read_csv(\"event_logs.csv\") \n",
        "data.head()"
      ],
      "execution_count": 1,
      "outputs": [
        {
          "output_type": "execute_result",
          "data": {
            "text/html": [
              "<div>\n",
              "<style scoped>\n",
              "    .dataframe tbody tr th:only-of-type {\n",
              "        vertical-align: middle;\n",
              "    }\n",
              "\n",
              "    .dataframe tbody tr th {\n",
              "        vertical-align: top;\n",
              "    }\n",
              "\n",
              "    .dataframe thead th {\n",
              "        text-align: right;\n",
              "    }\n",
              "</style>\n",
              "<table border=\"1\" class=\"dataframe\">\n",
              "  <thead>\n",
              "    <tr style=\"text-align: right;\">\n",
              "      <th></th>\n",
              "      <th>Level</th>\n",
              "      <th>Date and Time</th>\n",
              "      <th>Source</th>\n",
              "      <th>Event ID</th>\n",
              "      <th>Task Category</th>\n",
              "    </tr>\n",
              "  </thead>\n",
              "  <tbody>\n",
              "    <tr>\n",
              "      <th>Warning</th>\n",
              "      <td>16/09/2020 21:33:49</td>\n",
              "      <td>Microsoft-Windows-DNS-Client</td>\n",
              "      <td>1014</td>\n",
              "      <td>(1014)</td>\n",
              "      <td>Name resolution for the name www.bing.com time...</td>\n",
              "    </tr>\n",
              "    <tr>\n",
              "      <th>Information</th>\n",
              "      <td>16/09/2020 21:29:51</td>\n",
              "      <td>Service Control Manager</td>\n",
              "      <td>7040</td>\n",
              "      <td>None</td>\n",
              "      <td>The start type of the Background Intelligent T...</td>\n",
              "    </tr>\n",
              "    <tr>\n",
              "      <th>Warning</th>\n",
              "      <td>16/09/2020 21:29:00</td>\n",
              "      <td>Microsoft-Windows-DistributedCOM</td>\n",
              "      <td>10016</td>\n",
              "      <td>None</td>\n",
              "      <td>The application-specific permission settings d...</td>\n",
              "    </tr>\n",
              "    <tr>\n",
              "      <th>Warning</th>\n",
              "      <td>16/09/2020 21:28:46</td>\n",
              "      <td>Microsoft-Windows-DistributedCOM</td>\n",
              "      <td>10016</td>\n",
              "      <td>None</td>\n",
              "      <td>The application-specific permission settings d...</td>\n",
              "    </tr>\n",
              "    <tr>\n",
              "      <th>Warning</th>\n",
              "      <td>16/09/2020 21:28:23</td>\n",
              "      <td>Microsoft-Windows-DistributedCOM</td>\n",
              "      <td>10016</td>\n",
              "      <td>None</td>\n",
              "      <td>The application-specific permission settings d...</td>\n",
              "    </tr>\n",
              "  </tbody>\n",
              "</table>\n",
              "</div>"
            ],
            "text/plain": [
              "                           Level  ...                                      Task Category\n",
              "Warning      16/09/2020 21:33:49  ...  Name resolution for the name www.bing.com time...\n",
              "Information  16/09/2020 21:29:51  ...  The start type of the Background Intelligent T...\n",
              "Warning      16/09/2020 21:29:00  ...  The application-specific permission settings d...\n",
              "Warning      16/09/2020 21:28:46  ...  The application-specific permission settings d...\n",
              "Warning      16/09/2020 21:28:23  ...  The application-specific permission settings d...\n",
              "\n",
              "[5 rows x 5 columns]"
            ]
          },
          "metadata": {
            "tags": []
          },
          "execution_count": 1
        }
      ]
    }
  ]
}